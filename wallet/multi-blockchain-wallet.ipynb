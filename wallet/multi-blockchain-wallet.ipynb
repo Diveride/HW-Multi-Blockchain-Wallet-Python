{
 "cells": [
  {
   "cell_type": "code",
   "execution_count": 1,
   "id": "9e5810c9-cd4b-4a63-ba31-efffef475c5f",
   "metadata": {},
   "outputs": [],
   "source": [
    "# Import dependencies\n",
    "import subprocess\n",
    "import json\n",
    "import os\n",
    "from dotenv import load_dotenv\n",
    "from pprint import pprint\n",
    "\n",
    "\n",
    "# Import constants.py and necessary functions from bit (for BTCTest) and web3 (for ETH)\n",
    "from constants import *\n",
    "from bit import PrivateKeyTestnet\n",
    "from bit.network import NetworkAPI\n",
    "\n",
    "from web3 import Web3, middleware, Account\n",
    "from web3.gas_strategies.time_based import medium_gas_price_strategy\n",
    "from web3.middleware import geth_poa_middleware\n",
    "from eth_account import Account\n",
    "\n",
    "# connect Web3 to our local network 8545\n",
    "w3 = Web3(Web3.HTTPProvider('http://localhost:8545')) \n",
    "\n",
    "\n",
    "# enable PoA middleware\n",
    "w3.middleware_onion.inject(geth_poa_middleware, layer=0)\n",
    "\n",
    "# set gas price strategy to built-in \"medium\" algorythm (default to about 5 per tx)\n",
    "w3.eth.setGasPriceStrategy(medium_gas_price_strategy)\n",
    "\n",
    "# Load and set environment variables\n",
    "load_dotenv('./ft_mnemonic.env')\n",
    "\n",
    "# Set your mnemonic variable\n",
    "mnemonic=os.getenv(\"ft_mnemonic\")"
   ]
  },
  {
   "cell_type": "code",
   "execution_count": 2,
   "id": "10ac9863-41f8-428f-82b2-89fff1c32c80",
   "metadata": {},
   "outputs": [],
   "source": [
    "# Create a function called `derive_wallets`\n",
    "def derive_wallets(mnemonic, coin, depth):\n",
    "    command = f'./derive -g --mnemonic=\"{mnemonic}\" --coin=\"{coin}\" --numderive=\"{depth}\" --format=json'\n",
    "    p = subprocess.Popen(command, stdout=subprocess.PIPE, shell=True)\n",
    "    output, err = p.communicate()\n",
    "    p_status = p.wait()\n",
    "    return json.loads(output)"
   ]
  },
  {
   "cell_type": "code",
   "execution_count": 3,
   "id": "1685e349-81f1-4715-ad6d-8457049f520b",
   "metadata": {},
   "outputs": [],
   "source": [
    "# Create a dictionary object called coins to store the output from `derive_wallets`.\n",
    "coins = {\n",
    "    \"ETH\": derive_wallets(mnemonic, ETH, \"3\"),\n",
    "    \"BTC-TEST\": derive_wallets(mnemonic, BTCTEST, \"3\")\n",
    "}"
   ]
  },
  {
   "cell_type": "code",
   "execution_count": 4,
   "id": "c79c8a03-aa21-4078-9703-857965890300",
   "metadata": {},
   "outputs": [
    {
     "name": "stdout",
     "output_type": "stream",
     "text": [
      "{\n",
      "    \"ETH\": [\n",
      "        {\n",
      "            \"path\": \"m/44'/60'/0'/0/0\",\n",
      "            \"address\": \"0xf46e2491686bF2E15918Fc316dee66f600446f26\",\n",
      "            \"xprv\": \"xprvA2UpcB9biNZnDYVtZPF8wHMzNrPT8BPTinkdwhNGJhJ1UdPsMy848Tbd4zben5aqZneHhrtUEmSx9kQfoFRMZ4wmXjUHYRVkF9dMwCLdRrJ\",\n",
      "            \"xpub\": \"xpub6FUB1ggVYk85S2aMfQn9JRJivtDwXe7K61gEk5mss2pzMRj1uWSJgFv6vH6t1UADUr18BmrotSo8LMiLfoVSHg9fPL7JDuSqPRNwej47pqd\",\n",
      "            \"privkey\": \"0x82db79317f8f4e22a27e581c4ed56c4da09851375c92619672b0fee289f4d477\",\n",
      "            \"pubkey\": \"0344e8b1bc90307872f144250eaef76381a84a4b11cc5e517e5034c0135a648e78\",\n",
      "            \"pubkeyhash\": \"361447c0a97479dd755bf902b8a71b67fe6fda0a\",\n",
      "            \"index\": 0\n",
      "        },\n",
      "        {\n",
      "            \"path\": \"m/44'/60'/0'/0/1\",\n",
      "            \"address\": \"0xD8475F9206fe8Cfb5481aa7D28A41e7A29084F68\",\n",
      "            \"xprv\": \"xprvA2UpcB9biNZnGfHGUnKFKFb9B5VB6XmDcqdt49LULdQwQTFAgtvMcyzLrPPWa2p5GSwqHFihf1N3qbvXexwuYrTXmwKmxQtpvboq7V1FqcU\",\n",
      "            \"xpub\": \"xpub6FUB1ggVYk85V9MjaorFgPXsj7KfVzV4z4ZUrXk5txwvHFaKESEcAnJphgMVfmXJH7Bjy4HXcFqSAA7VA4apZfAQoVC6KYCwbAD82MFVahU\",\n",
      "            \"privkey\": \"0x607bdd30eddb81458366a0da692ec481f35403284bd7d59eb7161353e2d67dc6\",\n",
      "            \"pubkey\": \"035f49fecbf39c654cd5528cab6bd30ef41b7a88421d1be3fda71d0ded8434e641\",\n",
      "            \"pubkeyhash\": \"44a292df508949bb305fbc3e79035d14fe021f0b\",\n",
      "            \"index\": 1\n",
      "        },\n",
      "        {\n",
      "            \"path\": \"m/44'/60'/0'/0/2\",\n",
      "            \"address\": \"0xFDd928B134DC06801Bb3CeCe7F911005Daec0EEf\",\n",
      "            \"xprv\": \"xprvA2UpcB9biNZnKwtqrfNQpcNUELtGY61pZ176DGTSviNvbkjqDTcuXUUW6u7L4RzY4CZeNw5sL1PvA4jUVFthCZbGKszMs2rG5AcHVAn5aNK\",\n",
      "            \"xpub\": \"xpub6FUB1ggVYk85YRyJxguRBkKCnNikwYjfvE2h1es4V3uuUZ4ykzwA5GnyxAZpys4WbAPcJ1MmcHx78KRneGowYqe1xDL1dCapiPxk8Z96gso\",\n",
      "            \"privkey\": \"0x7a666d6216c75d75bf36f176475ac644a0cea1cbec94659426b9143d5ae827ff\",\n",
      "            \"pubkey\": \"02b28edc1ede100ac39ad8d348f2e1591e6c1ed23c8f0e2788b74f194186858b85\",\n",
      "            \"pubkeyhash\": \"0c5e2ddbe53f238b6b06e6b6916dc2d2ea16bf71\",\n",
      "            \"index\": 2\n",
      "        }\n",
      "    ],\n",
      "    \"BTC-TEST\": [\n",
      "        {\n",
      "            \"path\": \"m/44'/1'/0'/0/0\",\n",
      "            \"address\": \"mpxGsJRPCRXUCmucx7GCyzawcqggC6U3uU\",\n",
      "            \"xprv\": \"tprv8jHG4oK1Yd5rLRDP8ktMZ2uUZu536uYzRTLqYbsXBN93nDVUW3Sm3AibSDpP3f9oJJFPUK4SBJ8y4bKfwTSbBR9SzuCGCD9LUGe2vpRxWDm\",\n",
      "            \"xpub\": \"tpubDFyJDDMFgzmXDtFB2QYwxSZb8vayGEjtzkwcq7upbdwSchkF8SGMDfLTcNHMBk1KBECk7QruSdwAhmVUcnexvbA5iQRGSN9mWzkSLtcMyvS\",\n",
      "            \"privkey\": \"cRPRX9GMetgicKiqUc2in9pETehRAy7VzYRVrEGLSUNJiaLk9Gv9\",\n",
      "            \"pubkey\": \"033986aaae2637e8f34a54e46a59adcd36d0c4c043bf985acb7e5949bf017bb394\",\n",
      "            \"pubkeyhash\": \"67830905fc321751888615de4629d2f936a0310c\",\n",
      "            \"index\": 0\n",
      "        },\n",
      "        {\n",
      "            \"path\": \"m/44'/1'/0'/0/1\",\n",
      "            \"address\": \"n181xfYwhZ6W6WHXdAGzYinZqSiNR7DK7v\",\n",
      "            \"xprv\": \"tprv8jHG4oK1Yd5rQg6ss7TNDz5Ha2AANME7YNwwquLuqtJg7gFub4TP2rPVG2hEPjA8wep1qTMhpG2WoiTvNRSxikmJQTSBGwuBBNnucbsZxu7\",\n",
      "            \"xpub\": \"tpubDFyJDDMFgzmXJ98fkm7xdPjQ93g6XgR27gYj8RPDGA74xAWgDTGyDM1MS8SxPSp6mXtGWeorPhvrS97xcnSqkPdvomDYucTSc6W5nq3rbjb\",\n",
      "            \"privkey\": \"cUTuu8GkMevD1Ydj8hH2LjCMk43akzJ8TJH7hDKYRnjKgMmPPaZM\",\n",
      "            \"pubkey\": \"02304e671041d95f38c6e0e89d83a40ac75ead6107757e2d11fe01c8075b1f6427\",\n",
      "            \"pubkeyhash\": \"d70c022f9e262a32574df4f9d60710a564525105\",\n",
      "            \"index\": 1\n",
      "        },\n",
      "        {\n",
      "            \"path\": \"m/44'/1'/0'/0/2\",\n",
      "            \"address\": \"mnQ9FmyEvFZnXcotEaLfuvyvpH6wCazaZi\",\n",
      "            \"xprv\": \"tprv8jHG4oK1Yd5rTScSGFN7y6kmQBQgsdQmYRFrYznZYBLQ9KQkG699ebmGeQXfLm8Efd1La6UmKi7nEAHPWhTQcJYA8hVp4Asn2SoM9R7u1Ry\",\n",
      "            \"xpub\": \"tpubDFyJDDMFgzmXLueE9u2iNWQsyCvd2xbg7irdqWprxT8nyofWtUxjq6P8pYCnXwQLXp6RXezwsW9hN4r5pf6DdtzDf7P79j1MHhfRNDPQunX\",\n",
      "            \"privkey\": \"cSnwvjsxH3pxvqHSXrMrhuBmtKC75DLXaX6Am2uFDJr8MMBLwndk\",\n",
      "            \"pubkey\": \"02fb5efa33f293a052941d6bd9fbe8a0db34523e4f6f0050122fd1e774f2146efe\",\n",
      "            \"pubkeyhash\": \"4b7f1e4968198b501b3f4655268de1c944d7f16e\",\n",
      "            \"index\": 2\n",
      "        }\n",
      "    ]\n",
      "}\n"
     ]
    }
   ],
   "source": [
    "print(json.dumps(coins, indent=4))"
   ]
  },
  {
   "cell_type": "code",
   "execution_count": 5,
   "id": "881db69d-95ef-40ce-a2fe-53520e70ddcd",
   "metadata": {},
   "outputs": [],
   "source": [
    "# Extract the two private keys from the two first addresses we will be using to initiate our test transactions\n",
    "btc_privkey=coins['BTC-TEST'][0]['privkey']\n",
    "eth_privkey= coins['ETH'][0]['privkey']"
   ]
  },
  {
   "cell_type": "code",
   "execution_count": 6,
   "id": "e1ad744b-9ce6-471a-8307-852d8d97cd5b",
   "metadata": {},
   "outputs": [],
   "source": [
    "# Create a function called `priv_key_to_account` that converts privkey strings to account objects.\n",
    "def priv_key_to_account(coin, priv_key):\n",
    "    if coin == ETH:\n",
    "        return Account.privateKeyToAccount(priv_key)\n",
    "    if coin == BTCTEST:\n",
    "        return PrivateKeyTestnet(priv_key)"
   ]
  },
  {
   "cell_type": "code",
   "execution_count": 7,
   "id": "9c69484f-6f12-45af-9b82-d35fcae65094",
   "metadata": {},
   "outputs": [],
   "source": [
    "# Create a function called `create_tx` that creates an unsigned transaction appropriate metadata.\n",
    "def create_tx(coin, account, to, amount):\n",
    "    if coin == ETH:\n",
    "        value = w3.toWei(amount, 'ether') # convert eth to wei\n",
    "        gasEstimate = w3.eth.estimateGas({'to':to, 'from':account, 'amount':value})\n",
    "        return{\n",
    "            'to': to,\n",
    "            'from': account,\n",
    "            'value': value,\n",
    "            'gas': gasEstimate,\n",
    "            'gasPrice': w3.eth.generateGasPrice(),\n",
    "            'nonce': w3.eth.getTransactionCount(account),\n",
    "            'chainId': w3.eth.chain_id\n",
    "        }\n",
    "    if coin == BTCTEST:\n",
    "        return PrivateKeyTestnet.prepare_transaction(account.address, [(to, amount, BTC)])"
   ]
  },
  {
   "cell_type": "code",
   "execution_count": 9,
   "id": "6166419c-d17d-4114-92ac-2c98d115fef6",
   "metadata": {},
   "outputs": [],
   "source": [
    "# Create a function called `send_tx` that calls `create_tx`, signs and sends the transaction.\n",
    "def send_tx(coin, account, to, amount):\n",
    "    if coin == ETH:\n",
    "        raw_tx = create_tx(coin, account.address, to, amount)\n",
    "        signed = account.signTransaction(raw_tx)\n",
    "        return w3.eth.sendRawTransaction(signed.rawTransaction)\n",
    "    if coin == BTCTEST:\n",
    "        raw_tx = create_tx(coin, account, to, amount)\n",
    "        signed = account.sign_transaction(raw_tx)\n",
    "        return NetworkAPI.broadcast_tx_testnet(signed)"
   ]
  },
  {
   "cell_type": "code",
   "execution_count": 10,
   "id": "90dd79bc-900a-4e1d-bf28-e0926d01648a",
   "metadata": {},
   "outputs": [],
   "source": [
    "# Create the priv_key object that we will need to send transactions\n",
    "account_btc1 = priv_key_to_account(BTCTEST, btc_privkey)\n",
    "account_eth1 = priv_key_to_account(ETH, eth_privkey)"
   ]
  },
  {
   "cell_type": "markdown",
   "id": "d520d7bc-a1a0-4263-b2bf-4cf56f95a9b0",
   "metadata": {},
   "source": [
    "## BTCTEST test transaction"
   ]
  },
  {
   "cell_type": "code",
   "execution_count": 11,
   "id": "92f8925a-7498-43e0-96fb-71314fc2f3f5",
   "metadata": {},
   "outputs": [
    {
     "data": {
      "text/plain": [
       "True"
      ]
     },
     "execution_count": 11,
     "metadata": {},
     "output_type": "execute_result"
    }
   ],
   "source": [
    "# Check that we are correctly connected to our local blockchain. \n",
    "w3.isConnected()"
   ]
  },
  {
   "cell_type": "code",
   "execution_count": 13,
   "id": "83a33d58-ce2b-4252-a7d9-4446f05f3d6b",
   "metadata": {},
   "outputs": [],
   "source": [
    "# Generate and send the BTC transaction\n",
    "send_tx(BTCTEST,account_btc1 ,'n181xfYwhZ6W6WHXdAGzYinZqSiNR7DK7v', 0.001)"
   ]
  },
  {
   "cell_type": "markdown",
   "id": "c4cb669d-f366-492b-95f6-455990ee0751",
   "metadata": {},
   "source": [
    "## ETH test transaction"
   ]
  },
  {
   "cell_type": "code",
   "execution_count": 14,
   "id": "ad9a35ca-9509-462b-9b35-385e3ef58c7f",
   "metadata": {},
   "outputs": [
    {
     "data": {
      "text/plain": [
       "99849999979000000000000"
      ]
     },
     "execution_count": 14,
     "metadata": {},
     "output_type": "execute_result"
    }
   ],
   "source": [
    "# Check the Balance of the first address on our local network - this will be the address we use to send the transaction\n",
    "# Note since this address was new to our local Network, we had to first found it as the balance was at 0.\n",
    "# To do so you could either send funds via MyCrypto from another address or the nodes directly - OR reinitialize a new network and prefunding this address\n",
    "w3.eth.getBalance(\"0xf46e2491686bF2E15918Fc316dee66f600446f26\")"
   ]
  },
  {
   "cell_type": "code",
   "execution_count": 15,
   "id": "90db18b2-c047-4206-8975-eab34dc2d783",
   "metadata": {},
   "outputs": [
    {
     "data": {
      "text/plain": [
       "HexBytes('0xf340f4ffa2cd566f382dc39c67307bf1ace8d32816775de7115433e123bfc4f2')"
      ]
     },
     "execution_count": 15,
     "metadata": {},
     "output_type": "execute_result"
    }
   ],
   "source": [
    "# Generate and send the ETH transaction\n",
    "send_tx(ETH, account_eth1, '0xD8475F9206fe8Cfb5481aa7D28A41e7A29084F68', 150)"
   ]
  },
  {
   "cell_type": "code",
   "execution_count": 17,
   "id": "b8b3a128-8603-4690-9df3-a55dbeafb4a5",
   "metadata": {},
   "outputs": [
    {
     "data": {
      "text/plain": [
       "300000000000000000000"
      ]
     },
     "execution_count": 17,
     "metadata": {},
     "output_type": "execute_result"
    }
   ],
   "source": [
    "# confirm that the recipient actually received the 150 ETH by checking its balance\n",
    "w3.eth.getBalance(\"0xD8475F9206fe8Cfb5481aa7D28A41e7A29084F68\")"
   ]
  }
 ],
 "metadata": {
  "kernelspec": {
   "display_name": "Python 3",
   "language": "python",
   "name": "python3"
  },
  "language_info": {
   "codemirror_mode": {
    "name": "ipython",
    "version": 3
   },
   "file_extension": ".py",
   "mimetype": "text/x-python",
   "name": "python",
   "nbconvert_exporter": "python",
   "pygments_lexer": "ipython3",
   "version": "3.7.10"
  }
 },
 "nbformat": 4,
 "nbformat_minor": 5
}
